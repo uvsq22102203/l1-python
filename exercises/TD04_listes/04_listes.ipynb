{
 "cells": [
  {
   "cell_type": "markdown",
   "metadata": {},
   "source": [
    "# TD 4: Listes"
   ]
  },
  {
   "cell_type": "markdown",
   "metadata": {},
   "source": [
    "---\n",
    "\n",
    "## 1. Débuts avec les listes\n",
    "\n",
    "Dans cette partie, il faut écrire les réponses directement dans le notebook. En plus du cours, n'hésitez pas à consulter la documentation (tutoriel) Python sur les listes [ici (introduction aux listes)](https://docs.python.org/fr/3.6/tutorial/introduction.html#lists) et [ici (complément sur les listes)] (https://docs.python.org/fr/3/tutorial/datastructures.html#more-on-lists).\n",
    "\n",
    "1. Créer la liste `3, 5, 10`, l'affecter à une variable, puis l'afficher."
   ]
  },
  {
   "cell_type": "code",
   "execution_count": 45,
   "metadata": {},
   "outputs": [
    {
     "data": {
      "text/plain": [
       "[3, 5, 10]"
      ]
     },
     "execution_count": 45,
     "metadata": {},
     "output_type": "execute_result"
    }
   ],
   "source": [
    "list =[3,5,10]\n",
    "list"
   ]
  },
  {
   "cell_type": "markdown",
   "metadata": {},
   "source": [
    "2. Ajouter ensuite 12 et 17 à la fin puis afficher à nouveau la liste."
   ]
  },
  {
   "cell_type": "code",
   "execution_count": 46,
   "metadata": {},
   "outputs": [
    {
     "data": {
      "text/plain": [
       "[3, 5, 10, 12, 17]"
      ]
     },
     "execution_count": 46,
     "metadata": {},
     "output_type": "execute_result"
    }
   ],
   "source": [
    "list =[3,5,10]\n",
    "list.extend([12,17])\n",
    "list"
   ]
  },
  {
   "cell_type": "markdown",
   "metadata": {},
   "source": [
    "3. Changer le 10 en -7."
   ]
  },
  {
   "cell_type": "code",
   "execution_count": 47,
   "metadata": {},
   "outputs": [
    {
     "data": {
      "text/plain": [
       "[3, 5, -7, 12, 17]"
      ]
     },
     "execution_count": 47,
     "metadata": {},
     "output_type": "execute_result"
    }
   ],
   "source": [
    "list = [3,5,10,12,17]\n",
    "del list[2]\n",
    "list.insert(2,-7)\n",
    "list\n"
   ]
  },
  {
   "cell_type": "markdown",
   "metadata": {},
   "source": [
    "4. Avec une boucle `for`, écrire le double de chaque élément de la liste. Cela doit afficher `[6, 10, -14, 24, 34]`. La liste doit être modifiée."
   ]
  },
  {
   "cell_type": "code",
   "execution_count": 70,
   "metadata": {},
   "outputs": [
    {
     "data": {
      "text/plain": [
       "[6, 10, -14, 24, 34]"
      ]
     },
     "execution_count": 70,
     "metadata": {},
     "output_type": "execute_result"
    }
   ],
   "source": [
    "mult2 = [2 * i for i in list]\n",
    "mult2"
   ]
  },
  {
   "cell_type": "markdown",
   "metadata": {},
   "source": [
    "5. A l'aide d'une boucle `for`, ajouter  la valeur `i` à l'élément d'indice `i` de la liste. Cela doit afficher `[6, 11, -12, 27, 38]`. La liste doit être modifiée."
   ]
  },
  {
   "cell_type": "code",
   "execution_count": 71,
   "metadata": {},
   "outputs": [
    {
     "data": {
      "text/plain": [
       "[6, 11, -12, 27, 38]"
      ]
     },
     "execution_count": 71,
     "metadata": {},
     "output_type": "execute_result"
    }
   ],
   "source": [
    "\n",
    "mult2 = [indice + i for indice, i in enumerate(mult2)]\n",
    "mult2"
   ]
  },
  {
   "cell_type": "code",
   "execution_count": 69,
   "metadata": {},
   "outputs": [
    {
     "data": {
      "text/plain": [
       "[6, 11, -12, 27, 38]"
      ]
     },
     "execution_count": 69,
     "metadata": {},
     "output_type": "execute_result"
    }
   ],
   "source": [
    "#2eme methode\n",
    "for indice in range(5):\n",
    "    mult2[indice] += indice\n",
    "mult2"
   ]
  },
  {
   "cell_type": "markdown",
   "metadata": {},
   "source": [
    "6. Tirer 10 nombres à 2 chiffres au hasard et les mettre dans une nouvelle liste (vide au départ), puis afficher la somme des entiers de la liste et le plus grand de ces entiers."
   ]
  },
  {
   "cell_type": "code",
   "execution_count": 185,
   "metadata": {},
   "outputs": [
    {
     "data": {
      "text/plain": [
       "[46, 42, 35, 83, 65, 17, 19, 72, 38, 16]"
      ]
     },
     "execution_count": 185,
     "metadata": {},
     "output_type": "execute_result"
    }
   ],
   "source": [
    "#une liste avec 10 elements au hasard\n",
    "import random\n",
    "list10 = [0] * 10\n",
    "for indice in range(0,10):\n",
    "    x = random.randint(10,99)\n",
    "    del list10[indice]\n",
    "    list10.insert(indice,x)\n",
    "list10\n"
   ]
  },
  {
   "cell_type": "code",
   "execution_count": 204,
   "metadata": {},
   "outputs": [
    {
     "name": "stdout",
     "output_type": "stream",
     "text": [
      "[53, 55, 70, 77, 77, 76, 55, 19, 51, 36]\n"
     ]
    }
   ],
   "source": [
    "#2eme methode\n",
    "import random\n",
    "l = []\n",
    "for i in range(10):\n",
    "    v = random.randint(10,99)\n",
    "    l.append(v)\n",
    "print(l)"
   ]
  },
  {
   "cell_type": "code",
   "execution_count": 186,
   "metadata": {},
   "outputs": [
    {
     "data": {
      "text/plain": [
       "433"
      ]
     },
     "execution_count": 186,
     "metadata": {},
     "output_type": "execute_result"
    }
   ],
   "source": [
    "#la somme des entiers de la liste\n",
    "somme = 0\n",
    "for i in range(0, len(list10)):\n",
    "    somme = somme + list10[i]\n",
    "somme\n"
   ]
  },
  {
   "cell_type": "code",
   "execution_count": 192,
   "metadata": {},
   "outputs": [
    {
     "data": {
      "text/plain": [
       "433"
      ]
     },
     "execution_count": 192,
     "metadata": {},
     "output_type": "execute_result"
    }
   ],
   "source": [
    "#la somme des entiers de la liste, 2eme methode\n",
    "sum(list10)"
   ]
  },
  {
   "cell_type": "code",
   "execution_count": 187,
   "metadata": {},
   "outputs": [
    {
     "data": {
      "text/plain": [
       "83"
      ]
     },
     "execution_count": 187,
     "metadata": {},
     "output_type": "execute_result"
    }
   ],
   "source": [
    "#la valeur la plus grande de ces entiers\n",
    "max(list10)\n"
   ]
  },
  {
   "cell_type": "markdown",
   "metadata": {},
   "source": [
    "7. A partir de la liste choisie au hasard, créer une liste qui contient les éléments pairs et une deuxième liste qui contient les éléments impairs."
   ]
  },
  {
   "cell_type": "code",
   "execution_count": 193,
   "metadata": {},
   "outputs": [
    {
     "name": "stdout",
     "output_type": "stream",
     "text": [
      "[46, 42, 72, 38, 16]\n",
      "[35, 83, 65, 17, 19]\n"
     ]
    }
   ],
   "source": [
    "list10paires = []\n",
    "list10impaires = []\n",
    "for i in list10:\n",
    "    if i % 2 == 0:\n",
    "        list10paires = list10paires + [i]\n",
    "    else:\n",
    "        list10impaires = list10impaires + [i]\n",
    "\n",
    "print(list10paires)\n",
    "\n",
    "print(list10impaires)\n",
    "\n"
   ]
  },
  {
   "cell_type": "code",
   "execution_count": 205,
   "metadata": {},
   "outputs": [
    {
     "name": "stdout",
     "output_type": "stream",
     "text": [
      "[70, 76, 36]\n",
      "[53, 55, 77, 77, 55, 19, 51]\n"
     ]
    }
   ],
   "source": [
    "#2eme methode\n",
    "listepair = []\n",
    "listeimpair = []\n",
    "for item in l:\n",
    "    if item%2 == 0:\n",
    "        listepair.append(item)\n",
    "    else:\n",
    "        listeimpair.append(item)\n",
    "print(listepair)\n",
    "print(listeimpair)"
   ]
  },
  {
   "cell_type": "markdown",
   "metadata": {},
   "source": [
    "8. Trier la liste choisie au hasard par ordre croissant en modifiant la liste."
   ]
  },
  {
   "cell_type": "code",
   "execution_count": 197,
   "metadata": {},
   "outputs": [
    {
     "name": "stdout",
     "output_type": "stream",
     "text": [
      "[16, 17, 19, 35, 38, 42, 46, 65, 72, 83]\n"
     ]
    }
   ],
   "source": [
    "list10.sort()\n",
    "print(list10)"
   ]
  },
  {
   "cell_type": "markdown",
   "metadata": {},
   "source": [
    "9. Supprimer le plus petit et le plus grand élément de la liste triée."
   ]
  },
  {
   "cell_type": "code",
   "execution_count": 199,
   "metadata": {},
   "outputs": [
    {
     "name": "stdout",
     "output_type": "stream",
     "text": [
      "[17, 19, 35, 38, 42, 46, 65, 72]\n"
     ]
    }
   ],
   "source": [
    "list10.remove(max(list10) and min(list10))\n",
    "print(list10)"
   ]
  },
  {
   "cell_type": "markdown",
   "metadata": {},
   "source": [
    "10. Créer la liste des entiers de 1 jusqu'à 52. Ces entiers représentent les cartes d'un paquet de 52 cartes."
   ]
  },
  {
   "cell_type": "code",
   "execution_count": 206,
   "metadata": {},
   "outputs": [
    {
     "name": "stdout",
     "output_type": "stream",
     "text": [
      "[1, 2, 3, 4, 5, 6, 7, 8, 9, 10, 11, 12, 13, 14, 15, 16, 17, 18, 19, 20, 21, 22, 23, 24, 25, 26, 27, 28, 29, 30, 31, 32, 33, 34, 35, 36, 37, 38, 39, 40, 41, 42, 43, 44, 45, 46, 47, 48, 49, 50, 51, 52]\n"
     ]
    }
   ],
   "source": [
    "#liste des entiers de 1 à 52\n",
    "liste52 = []\n",
    "for i in range(1,53):\n",
    "    liste52.append(i)\n",
    "print(liste52)"
   ]
  },
  {
   "cell_type": "markdown",
   "metadata": {},
   "source": [
    " 11. Couper le jeu de carte revient à choisir un indice `i` entre 0 et 51, et à passer toutes les cartes allant des indices 0 à i-1 à la suite des cartes qui vont des indices i à 51. Ecrire le code qui effectue une coupe choisie au hasard."
   ]
  },
  {
   "cell_type": "code",
   "execution_count": null,
   "metadata": {},
   "outputs": [],
   "source": []
  },
  {
   "cell_type": "markdown",
   "metadata": {},
   "source": [
    "---\n",
    "\n",
    "## 2. Problème de Syracuse\n",
    "\n",
    "Cette partie est à traiter dans un script que vous pouvez appeler, par exemple, `syracuse.py`.\n",
    "\n",
    "En partant d'un entier `n` de départ, on définit une suite d'entiers en obtenant chaque nouveau terme à partir du précédent soit en le divisant par 2 s'il est pair, soit en le multipliant par 3 et en ajoutant 1 s'il est impair. \n",
    "\n",
    "1. Sans écrire de programme, calculer les premières valeurs de la suite en chosissant `n = 3`.\n",
    "\n",
    "2. Ecrire la fonction qui, à partir d'un entier initial, renvoie la liste des valeurs successives jusqu'à ce que la valeur `1` soit atteinte (le dernier élément de la liste est donc toujours 1)."
   ]
  },
  {
   "cell_type": "code",
   "execution_count": 107,
   "metadata": {},
   "outputs": [
    {
     "name": "stdout",
     "output_type": "stream",
     "text": [
      "[3, 10, 5, 16, 8, 4, 2, 1]\n"
     ]
    }
   ],
   "source": [
    "\n",
    "def syracuse(n):\n",
    "    \"\"\" Retourne la liste des valeurs de la suite en partant de n jusqu'à 1 \"\"\" #syracuse est en fait une fonction\n",
    "    list_syracuse = []\n",
    "    while n != 1:\n",
    "        list_syracuse.append(n)\n",
    "        if n % 2 == 0:\n",
    "            n = n //2\n",
    "        else:\n",
    "            n = n * 3 + 1\n",
    "    list_syracuse.append(n)\n",
    "    return list_syracuse\n",
    "print(syracuse(3)) #print la fontion syracuse"
   ]
  },
  {
   "cell_type": "markdown",
   "metadata": {},
   "source": [
    "3. La conjecture de Collatz (ou problème de Syracuse) affirme que, quel que soit l’entier `n` que l’on choisisse au départ, on finit toujours par arriver à 1 (ce résultat est une *conjecture*, c'est-à-dire qu'il n'a pas été démontré, mais qu'il n'existe pas de contre-exemple connu). Écrire une fonction qui, en appelant la fonction précédente, va vérifier si la conjecture est vraie pour `n` de 1 à `n_max`, où `n_max` est un paramètre de la fonction. \n",
    "\n",
    "*Remarque*: si tout se passe bien, la fonction doit juste se terminer et renvoyer `True` par exemple. Sinon, c’est qu’on sera entré dans une boucle infinie."
   ]
  },
  {
   "cell_type": "code",
   "execution_count": 108,
   "metadata": {
    "tags": []
   },
   "outputs": [
    {
     "name": "stdout",
     "output_type": "stream",
     "text": [
      "True\n"
     ]
    }
   ],
   "source": [
    "def testeConjecture(n_max):\n",
    "    \"\"\" Teste la conjecture de Collatz pour toutes les valeurs de 2 à n_max \"\"\"\n",
    "    \n",
    "    for i in range (2,n_max + 1):\n",
    "        syracuse(i) #rappel de la fonction precedente\n",
    "    return True #si toutes les conditions sont vraies, la fonction testeConjecture s'arrete et on obtient \"true\"\n",
    "\n",
    "print(testeConjecture(10000))"
   ]
  },
  {
   "cell_type": "markdown",
   "metadata": {},
   "source": [
    "4. On appelle *temps de vol* de l’entier `n` le nombre d’étapes pour aller de `n` jusqu’à 1. Le temps de vol de 1 est 0, le temps de vol de 3 est 7. Écrire une fonction qui, étant donné un paramètre `n`, renvoie son temps de vol."
   ]
  },
  {
   "cell_type": "code",
   "execution_count": 111,
   "metadata": {},
   "outputs": [
    {
     "name": "stdout",
     "output_type": "stream",
     "text": [
      "Le temps de vol de 3 est 7\n"
     ]
    }
   ],
   "source": [
    "def tempsVol(n):\n",
    "    \"\"\" Retourne le temps de vol de n \"\"\"\n",
    "    return len(syracuse(n))-1\n",
    "\n",
    "print(\"Le temps de vol de\", 3, \"est\", tempsVol(3))"
   ]
  },
  {
   "cell_type": "markdown",
   "metadata": {},
   "source": [
    "5. Ecrire une fonction qui, étant donné un paramètre `n_max` renvoie la liste des temps de vol de tous les entiers de 1 à `n_max`. *Indication*: utiliser une liste en compréhension."
   ]
  },
  {
   "cell_type": "code",
   "execution_count": 121,
   "metadata": {},
   "outputs": [
    {
     "name": "stdout",
     "output_type": "stream",
     "text": [
      "[0, 1, 7, 2, 5, 8, 16, 3, 19, 6, 14, 9, 9, 17, 17, 4, 12, 20, 20, 7, 7, 15, 15, 10, 23, 10, 111, 18, 18, 18, 106, 5, 26, 13, 13, 21, 21, 21, 34, 8, 109, 8, 29, 16, 16, 16, 104, 11, 24, 24, 24, 11, 11, 112, 112, 19, 32, 19, 32, 19, 19, 107, 107, 6, 27, 27, 27, 14, 14, 14, 102, 22, 115, 22, 14, 22, 22, 35, 35, 9, 22, 110, 110, 9, 9, 30, 30, 17, 30, 17, 92, 17, 17, 105, 105, 12, 118, 25, 25]\n"
     ]
    }
   ],
   "source": [
    "def tempsVolListe(n_max):\n",
    "    \"\"\" Retourne la liste de tous les temps de vol de 1 à n_max \"\"\"\n",
    "    list_tempsVolListe = []\n",
    "    for i in range (1,n_max):\n",
    "        a = len(syracuse(i)) - 1\n",
    "        list_tempsVolListe.append(a)\n",
    "    return list_tempsVolListe\n",
    "    \n",
    "print(tempsVolListe(100))"
   ]
  },
  {
   "cell_type": "markdown",
   "metadata": {},
   "source": [
    "6. Déterminer quel entier entre 1 et 10000 a le plus grand temps de vol (réponse 6171 qui a le temps de vol 261)."
   ]
  },
  {
   "cell_type": "markdown",
   "metadata": {},
   "source": [
    "7. L’altitude maximale de l'entier `n` est la plus grande valeur par laquelle passe `n` au cours de son vol. Déterminer quel entier entre 1 et 10000 a la plus grande altitude maximale (réponse 27114424, atteint par l'entier 9663). Ne pas hésiter à écrire de nouvelles fonctions pour cela."
   ]
  },
  {
   "cell_type": "markdown",
   "metadata": {},
   "source": [
    "---\n",
    "\n",
    "## 3. Carré magique\n",
    "\n",
    "*Définition* extraite de [l'article Wikipedia sur le carré magique](https://fr.wikipedia.org/wiki/Carr%C3%A9_magique_(math%C3%A9matiques)): en mathématiques, un carré magique d’ordre $n$ est composé de $n^2$ entiers strictement positifs, écrits sous la forme d’un tableau carré. Ces nombres sont disposés de sorte que leurs sommes sur chaque rangée, sur chaque colonne et sur chaque diagonale principale soient égales. On nomme alors *constante magique* la valeur de ces sommes. \n",
    "\n",
    "Un exemple de carré magique:\n",
    "\n",
    "$$\\begin{bmatrix} 4 & 14 & 15 & 1 \\\\ 9 & 7 & 6 & 12 \\\\ 5 & 11 & 10 & 8 \\\\ 16 & 2 & 3 & 13 \\end{bmatrix}$$\n",
    "\n",
    "1. Sans écrire de programme, vérifier qu'il s'agit bien d'un carré magique, et donner sa constante magique.\n",
    "\n",
    "Les questions qui suivent doivent être traitées dans un script, qui peut s'appeler `carre_magique.py`. Pensez à utiliser [PythonTutor](http://pythontutor.com/) et les outils de programmation pour résoudre les problèmes qui pourraient survenir.\n",
    "\n",
    "2. Créer une liste à deux dimensions affectée à  la variable `carre_mag` contenant ce carré magique."
   ]
  },
  {
   "cell_type": "code",
   "execution_count": 133,
   "metadata": {},
   "outputs": [
    {
     "name": "stdout",
     "output_type": "stream",
     "text": [
      "[[4, 14, 15, 1], [9, 7, 6, 12], [5, 11, 10, 8], [16, 2, 3, 13]]\n"
     ]
    }
   ],
   "source": [
    "carre_mag = [[4,14,15,1],[9,7,6,12],[5,11,10,8],[16,2,3,13]]\n",
    "print(carre_mag)"
   ]
  },
  {
   "cell_type": "markdown",
   "metadata": {},
   "source": [
    "3. Créer une deuxième liste affectée à la variable `carre_pas_mag` qui ne soit pas magique à partir du carré magique en changeant le 3 en 7. "
   ]
  },
  {
   "cell_type": "code",
   "execution_count": 134,
   "metadata": {},
   "outputs": [],
   "source": [
    "carre_pas_mag = [list(l) for l in carre_mag] \n",
    "carre_pas_mag[3][2] = 7"
   ]
  },
  {
   "cell_type": "markdown",
   "metadata": {},
   "source": [
    "4. Créer une fonction qui affiche la liste comme un carré."
   ]
  },
  {
   "cell_type": "code",
   "execution_count": 136,
   "metadata": {},
   "outputs": [
    {
     "name": "stdout",
     "output_type": "stream",
     "text": [
      "[4, 14, 15, 1]\n",
      "[9, 7, 6, 12]\n",
      "[5, 11, 10, 8]\n",
      "[16, 2, 3, 13]\n",
      "\n",
      "[4, 14, 15, 1]\n",
      "[9, 7, 6, 12]\n",
      "[5, 11, 10, 8]\n",
      "[16, 2, 7, 13]\n",
      "\n"
     ]
    }
   ],
   "source": [
    "def afficheCarre(carre):\n",
    "    \"\"\" Affiche la liste à 2 dimensions carre comme un carré\"\"\"\n",
    "    for l in carre:\n",
    "        print(l)\n",
    "    print()\n",
    "\n",
    "afficheCarre(carre_mag)\n",
    "afficheCarre(carre_pas_mag)\n"
   ]
  },
  {
   "cell_type": "markdown",
   "metadata": {},
   "source": [
    "5. Ecrire une fonction qui teste si les lignes du carré ont toutes la même somme. Cette fonction renvoie cette somme si c'est le cas, et `-1` sinon."
   ]
  },
  {
   "cell_type": "code",
   "execution_count": 138,
   "metadata": {},
   "outputs": [
    {
     "name": "stdout",
     "output_type": "stream",
     "text": [
      "34\n",
      "-1\n"
     ]
    }
   ],
   "source": [
    "def testLignesEgales(carre):\n",
    "    \"\"\" Renvoie la somme des éléments d'une ligne de la liste 2D carre si toutes les lignes ont la même somme, et -1 sinon \"\"\"\n",
    "    som = sum(carre[0])\n",
    "    for l in carre:\n",
    "        if sum(l) != som:\n",
    "            return -1\n",
    "    return som\n",
    "\n",
    "print(testLignesEgales(carre_mag))\n",
    "print(testLignesEgales(carre_pas_mag))\n"
   ]
  },
  {
   "cell_type": "markdown",
   "metadata": {},
   "source": [
    "6. Même question mais en testant les colonnes."
   ]
  },
  {
   "cell_type": "code",
   "execution_count": 142,
   "metadata": {},
   "outputs": [
    {
     "name": "stdout",
     "output_type": "stream",
     "text": [
      "34\n",
      "-1\n"
     ]
    }
   ],
   "source": [
    "def testColonnesEgales(carre):\n",
    "    \"\"\" Renvoie la somme des éléments d'une colonne de la liste 2D carre si toutes les colonnes ont la même somme, et -1 sinon \"\"\"\n",
    "    col = [l[0] for l in carre]\n",
    "    som = sum(col)\n",
    "    for i in range(1, len(carre)):\n",
    "        col = [l[i] for l in carre]\n",
    "        if sum(col) != som:\n",
    "            return -1 \n",
    "    return som\n",
    "print(testColonnesEgales(carre_mag))\n",
    "print(testColonnesEgales(carre_pas_mag))"
   ]
  },
  {
   "cell_type": "code",
   "execution_count": null,
   "metadata": {},
   "outputs": [],
   "source": []
  },
  {
   "cell_type": "markdown",
   "metadata": {},
   "source": [
    "7. Même question mais en testant les 2 diagonales."
   ]
  },
  {
   "cell_type": "code",
   "execution_count": null,
   "metadata": {},
   "outputs": [],
   "source": [
    "def testDiagonalesEgales(carre):\n",
    "    \"\"\" Renvoie la somme des éléments d'une diagonale de la liste 2D carre si les 2 diagonales ont la même somme, et -1 sinon \"\"\"\n",
    "    pass\n",
    "\n",
    "print(testDiagonalesEgales(carre_mag))\n",
    "print(testDiagonalesEgales(carre_pas_mag))"
   ]
  },
  {
   "cell_type": "markdown",
   "metadata": {},
   "source": [
    "8. Créer une fonction qui teste si un carré est magique. Elle retourne `True` si c'est le cas et `False` sinon."
   ]
  },
  {
   "cell_type": "code",
   "execution_count": null,
   "metadata": {},
   "outputs": [],
   "source": [
    "def estCarreMagique(carre):\n",
    "    \"\"\" Renvoie True si c'est un carre magique et False sinon\"\"\"\n",
    "    pass\n",
    "\n",
    "print(estCarreMagique(carre_mag))\n",
    "print(estCarreMagique(carre_pas_mag))"
   ]
  },
  {
   "cell_type": "markdown",
   "metadata": {},
   "source": [
    "9. Un carré d'ordre $n$ est *normal* s'il contient tous les entiers de 1 à $n^2$. Ecrire une fonction qui teste si un carré est normal (pas nécessairement magique)."
   ]
  },
  {
   "cell_type": "code",
   "execution_count": null,
   "metadata": {},
   "outputs": [],
   "source": [
    "def estNormal(carre):\n",
    "    \"\"\" Retourne True si contient toutes les valeurs de 1 à n^2 où n est la taille \n",
    "        du carré, et False sinon \"\"\"\n",
    "    pass\n",
    "\n",
    "print(estNormal(carre_mag))\n",
    "print(estNormal(carre_pas_mag))"
   ]
  }
 ],
 "metadata": {
  "kernelspec": {
   "display_name": "Python 3",
   "language": "python",
   "name": "python3"
  },
  "language_info": {
   "codemirror_mode": {
    "name": "ipython",
    "version": 3
   },
   "file_extension": ".py",
   "mimetype": "text/x-python",
   "name": "python",
   "nbconvert_exporter": "python",
   "pygments_lexer": "ipython3",
   "version": "3.9.7"
  }
 },
 "nbformat": 4,
 "nbformat_minor": 1
}
